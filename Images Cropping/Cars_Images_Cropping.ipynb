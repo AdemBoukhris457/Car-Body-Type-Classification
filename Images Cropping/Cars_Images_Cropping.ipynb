{
  "nbformat": 4,
  "nbformat_minor": 0,
  "metadata": {
    "colab": {
      "provenance": []
    },
    "kernelspec": {
      "name": "python3",
      "display_name": "Python 3"
    },
    "language_info": {
      "name": "python"
    }
  },
  "cells": [
    {
      "cell_type": "markdown",
      "source": [
        "**<center><h1>Cars Images Cropping</h1></center>**"
      ],
      "metadata": {
        "id": "tscDZ0QFbCtw"
      }
    },
    {
      "cell_type": "markdown",
      "source": [
        "## **Introduction**"
      ],
      "metadata": {
        "id": "_g7tQLQ8gfgu"
      }
    },
    {
      "cell_type": "markdown",
      "source": [
        "In this notebook, we are going to crop the cars from the images by using the annotations that we created by using Roboflow.\n",
        "\n",
        "our dataset contains 7 types of cars:\n",
        "\n",
        "\n",
        "*   Convertible\n",
        "*   Coupe\n",
        "*   Hatchback\n",
        "*   Pick-Up\n",
        "*   SUV\n",
        "*   Sedan\n",
        "*   VAN"
      ],
      "metadata": {
        "id": "9xl48ydlbeWc"
      }
    },
    {
      "cell_type": "markdown",
      "source": [
        "### **Install Libraries**"
      ],
      "metadata": {
        "id": "geD0bOTagnqh"
      }
    },
    {
      "cell_type": "code",
      "execution_count": null,
      "metadata": {
        "id": "mbm5UjHBZ3lX"
      },
      "outputs": [],
      "source": [
        "# Install libraries\n",
        "!pip install seedir\n",
        "!pip install emoji\n",
        "!pip install plotly"
      ]
    },
    {
      "cell_type": "markdown",
      "source": [
        "### **Import Libraries**"
      ],
      "metadata": {
        "id": "3cG2fQHxg7Td"
      }
    },
    {
      "cell_type": "code",
      "source": [
        "# Import libraries\n",
        "import pandas as pd\n",
        "import numpy as np\n",
        "import matplotlib.pyplot as plt\n",
        "import os\n",
        "import seedir as sd\n",
        "from zipfile import ZipFile\n",
        "import plotly.express as px\n",
        "import shutil\n",
        "import cv2\n",
        "from PIL import Image, ImageDraw\n",
        "import json\n",
        "import itertools"
      ],
      "metadata": {
        "id": "aseILl3_gzk4"
      },
      "execution_count": null,
      "outputs": []
    },
    {
      "cell_type": "markdown",
      "source": [
        "### **Data Exploration**"
      ],
      "metadata": {
        "id": "qBbD0xzSjqmR"
      }
    },
    {
      "cell_type": "code",
      "source": [
        "from google.colab import drive\n",
        "drive.mount('/content/drive')"
      ],
      "metadata": {
        "colab": {
          "base_uri": "https://localhost:8080/"
        },
        "id": "QqZJ0aYVg9sZ",
        "outputId": "d5d5155a-a47e-48e4-bb8b-262d775b3dd6"
      },
      "execution_count": null,
      "outputs": [
        {
          "output_type": "stream",
          "name": "stdout",
          "text": [
            "Drive already mounted at /content/drive; to attempt to forcibly remount, call drive.mount(\"/content/drive\", force_remount=True).\n"
          ]
        }
      ]
    },
    {
      "cell_type": "code",
      "source": [
        "os.mkdir(\"/content/Cars_Images_To_Annotate\")"
      ],
      "metadata": {
        "id": "WBltcs4RhZvK"
      },
      "execution_count": null,
      "outputs": []
    },
    {
      "cell_type": "markdown",
      "source": [
        "unzip the file"
      ],
      "metadata": {
        "id": "qi6MfeoKhIKv"
      }
    },
    {
      "cell_type": "code",
      "source": [
        "shutil.unpack_archive(\"/content/drive/MyDrive/Cars_Body_Type_Dataset/Cars_Types_Annotations.zip\", \"/content/Cars_Images_To_Annotate\")"
      ],
      "metadata": {
        "id": "ovw8C77bg_nq"
      },
      "execution_count": null,
      "outputs": []
    },
    {
      "cell_type": "code",
      "source": [
        "sd.seedir('/content/Cars_Images_To_Annotate/Cars_Types_Annotations', itemlimit=9, style='emoji')"
      ],
      "metadata": {
        "colab": {
          "base_uri": "https://localhost:8080/"
        },
        "id": "oF8UMm5fhuSH",
        "outputId": "ebd8f546-09bc-4103-a74f-e6384b5c5ae4"
      },
      "execution_count": null,
      "outputs": [
        {
          "output_type": "stream",
          "name": "stdout",
          "text": [
            "📁 Cars_Types_Annotations/\n",
            "├─📁 VAN_Cars/\n",
            "│ ├─📁 valid/\n",
            "│ │ ├─📄 202104061044932_jpg.rf.df55fa2bcbf0c833522e5baa7cf6c2c6.jpg\n",
            "│ │ ├─📄 202104131298631_jpg.rf.85fa7ef06100c9b1d0e0875997a1fa0d.jpg\n",
            "│ │ ├─📄 202104091167705_jpg.rf.1d88ed7bb7e15b375c3f5f0f27473f3f.jpg\n",
            "│ │ ├─📄 202104101207488_jpg.rf.bef09682de7604fc1ddf764faa9bf366.jpg\n",
            "│ │ ├─📄 202105102444118_jpg.rf.bcdb3ee3372955c27f988b3ebe43d61e.jpg\n",
            "│ │ ├─📄 202105202866294_jpg.rf.b693e03815210333cac7e7657a5765e1.jpg\n",
            "│ │ ├─📄 202104261817905_jpg.rf.f44eeb575b5691f083f333e000631b26.jpg\n",
            "│ │ ├─📄 202103220446646_jpg.rf.5dfaa71821bfc4f0555d053daa13a3b3.jpg\n",
            "│ │ └─📄 202105042167336_jpg.rf.7568b137a965d64c8265986ca02dd9e7.jpg\n",
            "│ ├─📁 train/\n",
            "│ │ ├─📄 202105273162149_jpg.rf.707ccf2afd49121c9f7121d651eeaa38.jpg\n",
            "│ │ ├─📄 202011045779617_jpg.rf.a4ef8a1fc8fecdfdeb86359c788db0a4.jpg\n",
            "│ │ ├─📄 202104081118440_jpg.rf.af791dfda25855420267ec3109bd08e3.jpg\n",
            "│ │ ├─📄 202102179165952_jpg.rf.a40773813769d6270670d569a0f0a475.jpg\n",
            "│ │ ├─📄 202010074723547_jpg.rf.8520f03fb8fb162f6fa18fc6aa0a51fc.jpg\n",
            "│ │ ├─📄 202103260619553_jpg.rf.207a51d1a6efd3de0cb40130452624f1.jpg\n",
            "│ │ ├─📄 138_jpg.rf.57fdf9bd1e1b1231f4e85865d3464e8f.jpg\n",
            "│ │ ├─📄 202104121264698_jpg.rf.496d95ee8dc481699146c0de18e74820.jpg\n",
            "│ │ └─📄 189_jpg.rf.71573ec97b7c8bf7c9a1a103c4ab43ef.jpg\n",
            "│ ├─📁 test/\n",
            "│ │ ├─📄 202104211632317_jpg.rf.25011b4102eada843835af543ca9428d.jpg\n",
            "│ │ ├─📄 Image_181_jpg.rf.95942dc8c7c60cb5fa4422ff4f75243f.jpg\n",
            "│ │ ├─📄 202104291957535_jpg.rf.7cee0e5337d78032c8f6d6099a7230b7.jpg\n",
            "│ │ ├─📄 202103029664074_jpg.rf.7ce7d5e480b22654a829f83e5fe0714a.jpg\n",
            "│ │ ├─📄 202106023357339_jpg.rf.a1148b99614d670fcdaa5ac4041470e7.jpg\n",
            "│ │ ├─📄 202103109981546_jpg.rf.419543415021758d1e41d375555ff593.jpg\n",
            "│ │ ├─📄 202105283205498_jpg.rf.222fc4e21765779f2765e8d0922fefb9.jpg\n",
            "│ │ ├─📄 78_jpg.rf.e621249e53b419d4e2fbf6c2359d720b.jpg\n",
            "│ │ └─📄 04647_GMC-Savana-Van-2012_jpg.rf.f269f0680bd7a98bd56ce8e68473ec16.jpg\n",
            "│ ├─📄 README.dataset.txt\n",
            "│ └─📄 README.roboflow.txt\n",
            "├─📁 Pick-Up_Cars/\n",
            "│ ├─📁 valid/\n",
            "│ │ ├─📄 202104131331452_jpg.rf.15c2304ff5327f752b3a34e8a25905a0.jpg\n",
            "│ │ ├─📄 202104040976631_jpg.rf.ea70dbb36079afa8e2ae4e0fbd6ff520.jpg\n",
            "│ │ ├─📄 Image_31_jpg.rf.0938319c38a7cb84a1a84bd09c1a93f3.jpg\n",
            "│ │ ├─📄 202106093656063_jpg.rf.e0a6722a5c26954badbe7931697b4068.jpg\n",
            "│ │ ├─📄 00908_Cadillac-Escalade-EXT-Crew-Cab-2007_jpg.rf.e735d0f045a23b052cbc80c98eeff792.jpg\n",
            "│ │ ├─📄 68_jpg.rf.5ba4273650f6682f231b281ff878cd5b.jpg\n",
            "│ │ ├─📄 202102239394507_jpg.rf.80e9f35dbf9c079efa63d916339cb8b3.jpg\n",
            "│ │ ├─📄 02628_Ford-F-150-Regular-Cab-2012_jpg.rf.3baa2e1dafcf86d861c5cb72f7eefaa9.jpg\n",
            "│ │ └─📄 06295_Cadillac-Escalade-EXT-Crew-Cab-2007_jpg.rf.91a20a7805adb44ac554c845904d47b9.jpg\n",
            "│ ├─📁 train/\n",
            "│ │ ├─📄 202105112476315_jpg.rf.6965fdbecefba827aba36faba445a2c9.jpg\n",
            "│ │ ├─📄 08117_Chevrolet-Silverado-1500-Regular-Cab-2012_jpg.rf.62fe31fe0ca12c565d259168176e7fdf.jpg\n",
            "│ │ ├─📄 03691_Dodge-Dakota-Club-Cab-2007_jpg.rf.8028ada7fc76f242f9ab69b2d7f28368.jpg\n",
            "│ │ ├─📄 00696_GMC-Canyon-Extended-Cab-2012_jpg.rf.bc7351549243f4b78e104154f2b20512.jpg\n",
            "│ │ ├─📄 202105012077320_jpg.rf.548946e4527c46369d108b19059871de.jpg\n",
            "│ │ ├─📄 04245_Dodge-Ram-Pickup-3500-Quad-Cab-2009_jpg.rf.f6fab311b7c2de414ca80501361322a3.jpg\n",
            "│ │ ├─📄 202104241772136_jpg.rf.ee335e0cb7887f6d5609e6c69a6827d2.jpg\n",
            "│ │ ├─📄 04711_Chevrolet-Silverado-1500-Regular-Cab-2012_jpg.rf.e531158971d8c08baac8457b71dd37fd.jpg\n",
            "│ │ └─📄 Image_120_jpg.rf.9d1801ba3156435101abc85ec4764260.jpg\n",
            "│ ├─📁 test/\n",
            "│ │ ├─📄 02934_Chevrolet-Silverado-1500-Regular-Cab-2012_jpg.rf.9c3f6c8d351bad0d0fcd618f9fe89126.jpg\n",
            "│ │ ├─📄 03247_HUMMER-H2-SUT-Crew-Cab-2009_jpg.rf.2d0a4da895098ac18fde7d2c962eaf69.jpg\n",
            "│ │ ├─📄 04180_Chevrolet-Avalanche-Crew-Cab-2012_jpg.rf.f92a9097dc0993568dd42da3819a99c6.jpg\n",
            "│ │ ├─📄 04774_Chevrolet-Silverado-1500-Hybrid-Crew-Cab-2012_jpg.rf.21d4ff2fb32805931762d1d4935f943e.jpg\n",
            "│ │ ├─📄 202106093655170_jpg.rf.152ca46a2d5f81b55667bea0bb7f1421.jpg\n",
            "│ │ ├─📄 202103160192445_jpg.rf.6a357365a34ab01cee19e72dd5b67ba1.jpg\n",
            "│ │ ├─📄 202105062285557_jpg.rf.1d488de5eeedc9a3df13d0989dd2e831.jpg\n",
            "│ │ ├─📄 01382_Cadillac-Escalade-EXT-Crew-Cab-2007_jpg.rf.e71d28e56904b5174c7155561b714715.jpg\n",
            "│ │ └─📄 03843_HUMMER-H2-SUT-Crew-Cab-2009_jpg.rf.273b52d9833daa1b1e7e388a61bee622.jpg\n",
            "│ ├─📄 README.dataset.txt\n",
            "│ └─📄 README.roboflow.txt\n",
            "├─📁 Sedan_Cars/\n",
            "│ ├─📁 valid/\n",
            "│ │ ├─📄 365_jpg.rf.b46b40408d2f31b0ed6b659552009ce8.jpg\n",
            "│ │ ├─📄 30_jpg.rf.b9057ab4407d7400ffaa0f22c0dfd9ff.jpg\n",
            "│ │ ├─📄 35_jpg.rf.7588cb4de79e3a9941e1ab272234e3c2.jpg\n",
            "│ │ ├─📄 06693_Chevrolet-Impala-Sedan-2007_jpg.rf.b933478d66d58959413582c44ccf50ac.jpg\n",
            "│ │ ├─📄 163_jpg.rf.666a9d2363a4de862ab798923d9950dc.jpg\n",
            "│ │ ├─📄 06500_Hyundai-Elantra-Sedan-2007_jpg.rf.f98821a9eb3556967b9eeb5766abe7d8.jpg\n",
            "│ │ ├─📄 8679360f-66b6-11eb-86ba-8c164571e025_jpg.rf.24f592eec8686018a992e799b15bc3e8.jpg\n",
            "│ │ ├─📄 269_jpg.rf.564ab2c4ea77dc387e5a8016fde19d59.jpg\n",
            "│ │ └─📄 86790f1b-66b6-11eb-9317-8c164571e025_jpg.rf.5978d9d5fab55d53497959b91a3cb7df.jpg\n",
            "│ ├─📁 train/\n",
            "│ │ ├─📄 07957_Suzuki-Aerio-Sedan-2007_jpg.rf.cc5644c6a07c48cfb925a7566796ff78.jpg\n",
            "│ │ ├─📄 00676_Chevrolet-Impala-Sedan-2007_jpg.rf.f47d1610544e33db305e51c2840c3edc.jpg\n",
            "│ │ ├─📄 03325_Mercedes-Benz-S-Class-Sedan-2012_jpg.rf.59cb1492c7c0670e2c05ac082ef67a1b.jpg\n",
            "│ │ ├─📄 128_jpg.rf.7a34fc00a92774149ee7d1e5a672a171.jpg\n",
            "│ │ ├─📄 00899_Audi-S6-Sedan-2011_jpg.rf.b4726c2e14e2db8c5f8ca488e109d2d1.jpg\n",
            "│ │ ├─📄 105_jpg.rf.fe9da7e7b5db2430e0f6074c7ee09640.jpg\n",
            "│ │ ├─📄 03054_Acura-TSX-Sedan-2012_jpg.rf.a7d0898bff4db34b9ac47f7efff72449.jpg\n",
            "│ │ ├─📄 02944_Honda-Accord-Sedan-2012_jpg.rf.771cbb87a964d57d9bca4b71fde64ba6.jpg\n",
            "│ │ └─📄 03531_Toyota-Camry-Sedan-2012_jpg.rf.853be7e0deebdc662b43f17d332fa37c.jpg\n",
            "│ ├─📁 test/\n",
            "│ │ ├─📄 07140_Mercedes-Benz-C-Class-Sedan-2012_jpg.rf.da9f42d4cd082ec4c69b3e86cf5cd681.jpg\n",
            "│ │ ├─📄 867a6dd1-66b6-11eb-8987-8c164571e025_jpg.rf.f0a3134304d6832c3ce57940f7411c74.jpg\n",
            "│ │ ├─📄 05293_Hyundai-Sonata-Sedan-2012_jpg.rf.ffa7de42b8b8822ea5c48c29cea75f85.jpg\n",
            "│ │ ├─📄 867abb8f-66b6-11eb-9ccc-8c164571e025_jpg.rf.7575b566e2bed14f51f7f11a29a2e7ae.jpg\n",
            "│ │ ├─📄 867983fb-66b6-11eb-a13d-8c164571e025_jpg.rf.e11dfb0416e8ae95dab925fa13bf5d89.jpg\n",
            "│ │ ├─📄 01034_Acura-RL-Sedan-2012_jpg.rf.8ecafd09e129bc2c570a4ab509944692.jpg\n",
            "│ │ ├─📄 07348_Hyundai-Azera-Sedan-2012_jpg.rf.b6734a4e7fed3736037160a0a8a18699.jpg\n",
            "│ │ ├─📄 207_jpg.rf.2e79ae2383f1791eb1aecbabd41f2b91.jpg\n",
            "│ │ └─📄 7_jpg.rf.4d53b770270ca0719adeaa46805af140.jpg\n",
            "│ ├─📄 README.dataset.txt\n",
            "│ └─📄 README.roboflow.txt\n",
            "├─📁 Convertible Cars/\n",
            "│ ├─📁 valid/\n",
            "│ │ ├─📄 02418_Mercedes-Benz-300-Class-Convertible-1993_jpg.rf.9e11a6d11f8dff686c1be4958ebd71c7.jpg\n",
            "│ │ ├─📄 03211_Chevrolet-Corvette-Convertible-2012_jpg.rf.353651e2439e443fe87075c02e0c294c.jpg\n",
            "│ │ ├─📄 d816922c-66b6-11eb-8bb4-8c164571e025_jpg.rf.4638fc63f16824f2a8457e95cf0a5a14.jpg\n",
            "│ │ ├─📄 02918_BMW-M6-Convertible-2010_jpg.rf.62694ca0ca4808a2b49575a7e3cbbd2b.jpg\n",
            "│ │ ├─📄 Image_76_jpg.rf.f0c5fac9d32d5adc649ebd7e016a7031.jpg\n",
            "│ │ ├─📄 06792_Bentley-Continental-Supersports-Conv-Convertible-2012_jpg.rf.59e6b9380fc7240936525e0f8fbbda10.jpg\n",
            "│ │ ├─📄 d815cffe-66b6-11eb-b65c-8c164571e025_jpg.rf.831272192bcf38e8a4f83a23a4456898.jpg\n",
            "│ │ ├─📄 d814bf46-66b6-11eb-b1f0-8c164571e025_jpg.rf.cdccf3958ced642809ba562be0347772.jpg\n",
            "│ │ └─📄 92_jpg.rf.51f49029455cbb965fbfc0818097e56b.jpg\n",
            "│ ├─📁 train/\n",
            "│ │ ├─📄 d8166be6-66b6-11eb-b422-8c164571e025_jpg.rf.a665ba7609e484ebbd4a51e1c517cc4c.jpg\n",
            "│ │ ├─📄 01792_Bentley-Continental-Supersports-Conv-Convertible-2012_jpg.rf.99f9f5fb4bf656f4486330cf284879c7.jpg\n",
            "│ │ ├─📄 05366_Aston-Martin-Virage-Convertible-2012_jpg.rf.0ae6befdf4881a7443ba5ac9975b814c.jpg\n",
            "│ │ ├─📄 05337_BMW-Z4-Convertible-2012_jpg.rf.3bcbc56c0a012f975a4a6b99c60360eb.jpg\n",
            "│ │ ├─📄 d812eb2e-66b6-11eb-8ef5-8c164571e025_jpg.rf.07bfd383c85e8b710bccd772c90818a2.jpg\n",
            "│ │ ├─📄 03850_Chrysler-Sebring-Convertible-2010_jpg.rf.9eb848646d7f1f99223a148afe5f4e4a.jpg\n",
            "│ │ ├─📄 d813fc60-66b6-11eb-b09b-8c164571e025_jpg.rf.019951be499e50f64adfb884a3680ead.jpg\n",
            "│ │ ├─📄 d814712d-66b6-11eb-98f4-8c164571e025_jpg.rf.f1b98b146d0ffec96bc3cff9aac965e9.jpg\n",
            "│ │ └─📄 209_jpg.rf.087854db3487a9426ffae09ef840e122.jpg\n",
            "│ ├─📁 test/\n",
            "│ │ ├─📄 04072_Aston-Martin-V8-Vantage-Convertible-2012_jpg.rf.8acad251491281effefb6f1c75cef452.jpg\n",
            "│ │ ├─📄 d8142331-66b6-11eb-a032-8c164571e025_jpg.rf.9b4c588980f5ed6aebb6ba38a93d67f2.jpg\n",
            "│ │ ├─📄 d814e62a-66b6-11eb-b4f1-8c164571e025_jpg.rf.66f7fc7d742632e86ee6210cdc1d02d9.jpg\n",
            "│ │ ├─📄 d8150d14-66b6-11eb-9cec-8c164571e025_jpg.rf.e1f06737c6e7a4663fe85f2a69b99094.jpg\n",
            "│ │ ├─📄 04867_MINI-Cooper-Roadster-Convertible-2012_jpg.rf.78f195d5684d054b3e2cf0fb26b3c799.jpg\n",
            "│ │ ├─📄 06163_Audi-RS-4-Convertible-2008_jpg.rf.72920209c3dae0a0cb78e9c77602b5b2.jpg\n",
            "│ │ ├─📄 02673_Chevrolet-Camaro-Convertible-2012_jpg.rf.94ccf5505978e1c2113e9f400aadc9ad.jpg\n",
            "│ │ ├─📄 00961_Mercedes-Benz-300-Class-Convertible-1993_jpg.rf.c8e5adbfa1cb5fae08113cadcf532048.jpg\n",
            "│ │ └─📄 d8136029-66b6-11eb-9479-8c164571e025_jpg.rf.98966c552df1315ab6dbab7b49840736.jpg\n",
            "│ ├─📄 README.dataset.txt\n",
            "│ └─📄 README.roboflow.txt\n",
            "├─📁 Coupe_Cars/\n",
            "│ ├─📁 valid/\n",
            "│ │ ├─📄 360_jpg.rf.b24a4e49b5e04efa7825e73b5ddae5bb.jpg\n",
            "│ │ ├─📄 245_jpg.rf.f912d7cd51a90bfc17f62d3f0b1cb16e.jpg\n",
            "│ │ ├─📄 471_jpg.rf.4907a9465c99e28e0abc284a15b20b45.jpg\n",
            "│ │ ├─📄 372_jpg.rf.dcdbdc87679ff33e21efbcf2b97eb309.jpg\n",
            "│ │ ├─📄 02020_Ferrari-FF-Coupe-2012_jpg.rf.33a20eed4a137024508babe3eac2c14b.jpg\n",
            "│ │ ├─📄 94_jpg.rf.67b9280d6c27204600b5750be8a395a2.jpg\n",
            "│ │ ├─📄 223_jpg.rf.2ab9e541153b51bab27a6c1b44a60c6a.jpg\n",
            "│ │ ├─📄 01361_Aston-Martin-V8-Vantage-Coupe-2012_jpg.rf.d7477bfba021114aaeb47137599f364d.jpg\n",
            "│ │ └─📄 246_jpg.rf.7baa057590df2fc5e5035a13c7bd9130.jpg\n",
            "│ ├─📁 train/\n",
            "│ │ ├─📄 140_jpg.rf.840b75dd2fa118735be3a350111641a7.jpg\n",
            "│ │ ├─📄 332_jpg.rf.d38fbd58e6440793c4d71bec1dc57ba6.jpg\n",
            "│ │ ├─📄 5_jpg.rf.35c1559f04d73f48e48b7138e31f2176.jpg\n",
            "│ │ ├─📄 07657_BMW-M3-Coupe-2012_jpg.rf.22dd9e0a9afb04c15d7948148a3044c2.jpg\n",
            "│ │ ├─📄 61_jpg.rf.8383b6bd4430dd6dad13d06ee324fda0.jpg\n",
            "│ │ ├─📄 135_jpg.rf.ddf901bab92373f9f9744a71677bae07.jpg\n",
            "│ │ ├─📄 153_jpg.rf.cbeb39d37513465340b507e176fbb801.jpg\n",
            "│ │ ├─📄 05068_Bentley-Continental-GT-Coupe-2007_jpg.rf.feb9c0e64be0de82f3af9434b28c3763.jpg\n",
            "│ │ └─📄 0ab6fd5b-66b3-11eb-bcd9-8c164571e025_jpg.rf.4d657398e92da2d254c7c6950f0b6094.jpg\n",
            "│ ├─📁 test/\n",
            "│ │ ├─📄 172_jpg.rf.5fc9efa199832ace58289a42a4041876.jpg\n",
            "│ │ ├─📄 266_jpg.rf.1be91f70dd478137aa068e06d522a8ed.jpg\n",
            "│ │ ├─📄 7_jpg.rf.a5bbd690c24ef265f8c9328ee99655be.jpg\n",
            "│ │ ├─📄 07598_Bentley-Continental-GT-Coupe-2007_jpg.rf.59519b08ea50b66ce03e9fce6eda1c57.jpg\n",
            "│ │ ├─📄 177_jpg.rf.83ce31bd8f2de4f6df4e127ce5184fbd.jpg\n",
            "│ │ ├─📄 377_jpg.rf.5bb847ad603920a1b1a457dcb1e912cf.jpg\n",
            "│ │ ├─📄 35_jpg.rf.8f0781903b7d4d663529d8a2256e12b2.jpg\n",
            "│ │ ├─📄 218_jpg.rf.7abad589ec6b94389a02412526a6bc7a.jpg\n",
            "│ │ └─📄 06450_Audi-A5-Coupe-2012_jpg.rf.451a26aa9fcb7fde503a238bb5ff3d95.jpg\n",
            "│ ├─📄 README.dataset.txt\n",
            "│ └─📄 README.roboflow.txt\n",
            "├─📁 Hatchback_Cars/\n",
            "│ ├─📁 valid/\n",
            "│ │ ├─📄 07934_Suzuki-SX4-Hatchback-2012_jpg.rf.432a02ea2d902c65338a2e6fbc58b2ca.jpg\n",
            "│ │ ├─📄 d5858442-66ac-11eb-a5c5-8c164571e025_jpg.rf.28fca9cbf8060b7e459473878984c4e9.jpg\n",
            "│ │ ├─📄 d582eca7-66ac-11eb-bc2f-8c164571e025_jpg.rf.9b06ca22d1ae2baf60e922b4b3950ae6.jpg\n",
            "│ │ ├─📄 03188_Volvo-C30-Hatchback-2012_jpg.rf.9b10481ff06c380ab5de2070f4b1faef.jpg\n",
            "│ │ ├─📄 342_jpg.rf.b2c6ee550a4900e684926971ae7822de.jpg\n",
            "│ │ ├─📄 d583895a-66ac-11eb-8987-8c164571e025_jpg.rf.72adabb48c8f668c841c6572bcf82049.jpg\n",
            "│ │ ├─📄 32_jpg.rf.e52c8304d957f2665bedfb6eeeffd2bc.jpg\n",
            "│ │ ├─📄 01464_Volvo-C30-Hatchback-2012_jpg.rf.4393849141a82c986e6d4ad2e6f5129f.jpg\n",
            "│ │ └─📄 Image_82_jpg.rf.3a910fef30524a7e9e7f89362a60c731.jpg\n",
            "│ ├─📁 train/\n",
            "│ │ ├─📄 d5842490-66ac-11eb-9798-8c164571e025_jpg.rf.921abfd9a1f79bbe78764b595f6e2a96.jpg\n",
            "│ │ ├─📄 d582ecae-66ac-11eb-8033-8c164571e025_jpg.rf.32f34ca676397d512d6ffae89490d0e0.jpg\n",
            "│ │ ├─📄 142_jpg.rf.725eff577c884c8551f0204f93bfb09a.jpg\n",
            "│ │ ├─📄 03033_Volkswagen-Golf-Hatchback-1991_jpg.rf.94114c15653595c6dfbd5ad35b28d580.jpg\n",
            "│ │ ├─📄 209_jpg.rf.a5758c9bc74ee5a7525fcd6836ed69e4.jpg\n",
            "│ │ ├─📄 04355_Volvo-C30-Hatchback-2012_jpg.rf.a2620753404ca874ac09fb243435d3ad.jpg\n",
            "│ │ ├─📄 05225_Scion-xD-Hatchback-2012_jpg.rf.be191a7151ff400a2d93ec1783868f44.jpg\n",
            "│ │ ├─📄 00794_Hyundai-Elantra-Touring-Hatchback-2012_jpg.rf.3e4eff990a9b321bcb31f8090d010cd3.jpg\n",
            "│ │ └─📄 d582ecdd-66ac-11eb-8b7c-8c164571e025_jpg.rf.b580d9d00731fa3c79b87502a836d313.jpg\n",
            "│ ├─📁 test/\n",
            "│ │ ├─📄 d5858458-66ac-11eb-9db8-8c164571e025_jpg.rf.af458a9dd02ed156ffdb01c9c6bf7da2.jpg\n",
            "│ │ ├─📄 d584e9d8-66ac-11eb-84e7-8c164571e025_jpg.rf.e2f77e8bc5db825a25f469ae58ee552f.jpg\n",
            "│ │ ├─📄 01587_Nissan-Juke-Hatchback-2012_jpg.rf.b98d6a1bf323df5a0313fc25e484bb5b.jpg\n",
            "│ │ ├─📄 d582ed00-66ac-11eb-af52-8c164571e025_jpg.rf.9ca7b3f424df1cfe869eae16e3b4ff27.jpg\n",
            "│ │ ├─📄 03642_Nissan-Juke-Hatchback-2012_jpg.rf.b3bce2dc909301f4d02bbe20155fe812.jpg\n",
            "│ │ ├─📄 d581b473-66ac-11eb-bb25-8c164571e025_jpg.rf.6cba7aece68d508854a9e09a88f236b8.jpg\n",
            "│ │ ├─📄 Image_176_jpg.rf.cec2701b8df6969c6c772ba7332a8269.jpg\n",
            "│ │ ├─📄 d5862278-66ac-11eb-80ce-8c164571e025_jpg.rf.321d710f21ca2e267cd6b71b5b314d57.jpg\n",
            "│ │ └─📄 06393_Nissan-Juke-Hatchback-2012_jpg.rf.74175eead6fb7bf11421ce7815bb9a1a.jpg\n",
            "│ ├─📄 README.dataset.txt\n",
            "│ └─📄 README.roboflow.txt\n",
            "└─📁 SUV_Cars/\n",
            "  ├─📁 valid/\n",
            "  │ ├─📄 79_jpg.rf.ff3d686180c3ce63428484a62d4cedeb.jpg\n",
            "  │ ├─📄 03546_Land-Rover-Range-Rover-SUV-2012_jpg.rf.b320ece427d54306f4d07ba684a3cb55.jpg\n",
            "  │ ├─📄 321_jpg.rf.bd082f921a189470c1f7942d9a4947c6.jpg\n",
            "  │ ├─📄 04731_GMC-Yukon-Hybrid-SUV-2012_jpg.rf.7945cc877da36d5f8b1b54f54f99733b.jpg\n",
            "  │ ├─📄 05966_Infiniti-QX56-SUV-2011_jpg.rf.86fc558a603046278a136d52d18b3b3d.jpg\n",
            "  │ ├─📄 07238_Buick-Rainier-SUV-2007_jpg.rf.d01af99e018b6c7edb888a071b49bbb6.jpg\n",
            "  │ ├─📄 04788_Hyundai-Tucson-SUV-2012_jpg.rf.962b2f99eb4e9e6fce0736f8abf8f8f5.jpg\n",
            "  │ ├─📄 06431_Buick-Rainier-SUV-2007_jpg.rf.aeb38c6b0a2a3e2c14074004b7fe65ae.jpg\n",
            "  │ └─📄 00023_GMC-Yukon-Hybrid-SUV-2012_jpg.rf.f7ada32b28eeec654da25f1d4253fb21.jpg\n",
            "  ├─📁 train/\n",
            "  │ ├─📄 143_jpg.rf.ef4b877dea8bf9d3a6d50d9abfc48bc0.jpg\n",
            "  │ ├─📄 06215_Buick-Enclave-SUV-2012_jpg.rf.dcebdd844e46467d15213a0908025f4d.jpg\n",
            "  │ ├─📄 86_jpg.rf.73756d9be8ae8d4d5e4a532cdf207cd9.jpg\n",
            "  │ ├─📄 02035_GMC-Yukon-Hybrid-SUV-2012_jpg.rf.45d314c7fd9bb5804fa9f14930ef3007.jpg\n",
            "  │ ├─📄 05155_GMC-Yukon-Hybrid-SUV-2012_jpg.rf.9e81db922e5d809f64a4dca1d6cbeedc.jpg\n",
            "  │ ├─📄 00807_GMC-Acadia-SUV-2012_jpg.rf.c3ae9aac98b0806433f7e773916f334b.jpg\n",
            "  │ ├─📄 212_jpg.rf.169f59ea40ae77395831a7ac055e781c.jpg\n",
            "  │ ├─📄 236_jpg.rf.4e51c987b6d41561d469626a81b734c4.jpg\n",
            "  │ └─📄 04895_Hyundai-Tucson-SUV-2012_jpg.rf.2cde74a279dcee9898a391e7ec1b28c6.jpg\n",
            "  ├─📁 test/\n",
            "  │ ├─📄 05796_Land-Rover-LR2-SUV-2012_jpg.rf.d0ee291f1fbf3fd9faa36639fa5518f5.jpg\n",
            "  │ ├─📄 377_jpg.rf.4d00ae50c9ee18dc3982618a6dfb5e9e.jpg\n",
            "  │ ├─📄 153_jpg.rf.b8ff38656b9b7906aeb71530831d8b07.jpg\n",
            "  │ ├─📄 02120_Infiniti-QX56-SUV-2011_jpg.rf.1f8216641e8cca117d17bafaaa0940b0.jpg\n",
            "  │ ├─📄 02795_Chevrolet-Traverse-SUV-2012_jpg.rf.4d6da68ac59e11492709a1c6a263c1d8.jpg\n",
            "  │ ├─📄 05784_Dodge-Journey-SUV-2012_jpg.rf.650ceea0169ac7dc641292e5c01866b7.jpg\n",
            "  │ ├─📄 03916_Toyota-Sequoia-SUV-2012_jpg.rf.32d8e6872ee7677b7f27ac97c090c95a.jpg\n",
            "  │ ├─📄 03837_Dodge-Journey-SUV-2012_jpg.rf.7524ece4819b9b98e7185a10749bbf1b.jpg\n",
            "  │ └─📄 05484_Toyota-4Runner-SUV-2012_jpg.rf.726ab5e85025ca32fc234b96be1aaa43.jpg\n",
            "  ├─📄 README.dataset.txt\n",
            "  └─📄 README.roboflow.txt\n"
          ]
        }
      ]
    },
    {
      "cell_type": "code",
      "source": [
        "os.mkdir(\"/content/Car_Images_Cropped\")\n",
        "os.mkdir(\"/content/Car_Images_Cropped/Convertible\")\n",
        "os.mkdir(\"/content/Car_Images_Cropped/Coupe\")\n",
        "os.mkdir(\"/content/Car_Images_Cropped/Hatchback\")\n",
        "os.mkdir(\"/content/Car_Images_Cropped/Pick-Up\")\n",
        "os.mkdir(\"/content/Car_Images_Cropped/SUV\")\n",
        "os.mkdir(\"/content/Car_Images_Cropped/Sedan\")\n",
        "os.mkdir(\"/content/Car_Images_Cropped/VAN\")"
      ],
      "metadata": {
        "id": "G9R7kPy1lCwF"
      },
      "execution_count": null,
      "outputs": []
    },
    {
      "cell_type": "code",
      "source": [
        "for i in os.listdir(\"/content/Car_Images_Cropped\"):\n",
        "  os.mkdir(os.path.join(\"/content/Car_Images_Cropped\", i,\"train\"))\n",
        "  os.mkdir(os.path.join(\"/content/Car_Images_Cropped\", i,\"test\"))\n",
        "  os.mkdir(os.path.join(\"/content/Car_Images_Cropped\", i,\"valid\"))"
      ],
      "metadata": {
        "id": "hSLZO_VSr59B"
      },
      "execution_count": null,
      "outputs": []
    },
    {
      "cell_type": "markdown",
      "source": [
        "### **Cropping the images**"
      ],
      "metadata": {
        "id": "YKlfPe-bHPuH"
      }
    },
    {
      "cell_type": "code",
      "source": [
        "def Crop_images(annotations_file_path,old_images_path, new_image_path):\n",
        "  annotations_dataframe = pd.read_csv(annotations_file_path)\n",
        "  list_of_images = list(annotations_dataframe[\"filename\"])\n",
        "  for i in list_of_images:\n",
        "    selected_row = annotations_dataframe.loc[annotations_dataframe['filename'] == i, [\"xmin\",\"ymin\",\"xmax\",\"ymax\"]]\n",
        "    print(i)\n",
        "    print(selected_row)\n",
        "    image = cv2.imread(os.path.join(old_images_path,i))\n",
        "    cropped_image = image[int(selected_row[\"ymin\"]):int(selected_row[\"ymax\"]), int(selected_row[\"xmin\"]):int(selected_row[\"xmax\"])]\n",
        "    cv2.imwrite(os.path.join(new_image_path,i), cropped_image)"
      ],
      "metadata": {
        "id": "gIZHvdWE2Nn4"
      },
      "execution_count": null,
      "outputs": []
    },
    {
      "cell_type": "code",
      "source": [
        "# Convertible\n",
        "Crop_images(\"/content/Cars_Images_To_Annotate/Cars_Types_Annotations/Convertible Cars/train/_annotations.csv\",\"/content/Cars_Images_To_Annotate/Cars_Types_Annotations/Convertible Cars/train\", \"/content/Car_Images_Cropped/Convertible/train\")\n",
        "Crop_images(\"/content/Cars_Images_To_Annotate/Cars_Types_Annotations/Convertible Cars/test/_annotations.csv\",\"/content/Cars_Images_To_Annotate/Cars_Types_Annotations/Convertible Cars/test\", \"/content/Car_Images_Cropped/Convertible/test\")\n",
        "Crop_images(\"/content/Cars_Images_To_Annotate/Cars_Types_Annotations/Convertible Cars/valid/_annotations.csv\",\"/content/Cars_Images_To_Annotate/Cars_Types_Annotations/Convertible Cars/valid\", \"/content/Car_Images_Cropped/Convertible/valid\")"
      ],
      "metadata": {
        "id": "xH3u5gii4CGC"
      },
      "execution_count": null,
      "outputs": []
    },
    {
      "cell_type": "code",
      "source": [
        "# Coupe\n",
        "Crop_images(\"/content/Cars_Images_To_Annotate/Cars_Types_Annotations/Coupe_Cars/train/_annotations.csv\",\"/content/Cars_Images_To_Annotate/Cars_Types_Annotations/Coupe_Cars/train\", \"/content/Car_Images_Cropped/Coupe/train\")\n",
        "Crop_images(\"/content/Cars_Images_To_Annotate/Cars_Types_Annotations/Coupe_Cars/test/_annotations.csv\",\"/content/Cars_Images_To_Annotate/Cars_Types_Annotations/Coupe_Cars/test\", \"/content/Car_Images_Cropped/Coupe/test\")\n",
        "Crop_images(\"/content/Cars_Images_To_Annotate/Cars_Types_Annotations/Coupe_Cars/valid/_annotations.csv\",\"/content/Cars_Images_To_Annotate/Cars_Types_Annotations/Coupe_Cars/valid\", \"/content/Car_Images_Cropped/Coupe/valid\")"
      ],
      "metadata": {
        "id": "O9bjJRCVFn1g"
      },
      "execution_count": null,
      "outputs": []
    },
    {
      "cell_type": "code",
      "source": [
        "# Hatchback\n",
        "Crop_images(\"/content/Cars_Images_To_Annotate/Cars_Types_Annotations/Hatchback_Cars/train/_annotations.csv\",\"/content/Cars_Images_To_Annotate/Cars_Types_Annotations/Hatchback_Cars/train\", \"/content/Car_Images_Cropped/Hatchback/train\")\n",
        "Crop_images(\"/content/Cars_Images_To_Annotate/Cars_Types_Annotations/Hatchback_Cars/test/_annotations.csv\",\"/content/Cars_Images_To_Annotate/Cars_Types_Annotations/Hatchback_Cars/test\", \"/content/Car_Images_Cropped/Hatchback/test\")\n",
        "Crop_images(\"/content/Cars_Images_To_Annotate/Cars_Types_Annotations/Hatchback_Cars/valid/_annotations.csv\",\"/content/Cars_Images_To_Annotate/Cars_Types_Annotations/Hatchback_Cars/valid\", \"/content/Car_Images_Cropped/Hatchback/valid\")"
      ],
      "metadata": {
        "id": "tvpHKEEkFny_"
      },
      "execution_count": null,
      "outputs": []
    },
    {
      "cell_type": "code",
      "source": [
        "# Pick-Up\n",
        "Crop_images(\"/content/Cars_Images_To_Annotate/Cars_Types_Annotations/Pick-Up_Cars/train/_annotations.csv\",\"/content/Cars_Images_To_Annotate/Cars_Types_Annotations/Pick-Up_Cars/train\", \"/content/Car_Images_Cropped/Pick-Up/train\")\n",
        "Crop_images(\"/content/Cars_Images_To_Annotate/Cars_Types_Annotations/Pick-Up_Cars/test/_annotations.csv\",\"/content/Cars_Images_To_Annotate/Cars_Types_Annotations/Pick-Up_Cars/test\", \"/content/Car_Images_Cropped/Pick-Up/test\")\n",
        "Crop_images(\"/content/Cars_Images_To_Annotate/Cars_Types_Annotations/Pick-Up_Cars/valid/_annotations.csv\",\"/content/Cars_Images_To_Annotate/Cars_Types_Annotations/Pick-Up_Cars/valid\", \"/content/Car_Images_Cropped/Pick-Up/valid\")"
      ],
      "metadata": {
        "id": "NoLlkf-EHCyV"
      },
      "execution_count": null,
      "outputs": []
    },
    {
      "cell_type": "code",
      "source": [
        "# SUV\n",
        "Crop_images(\"/content/Cars_Images_To_Annotate/Cars_Types_Annotations/SUV_Cars/train/_annotations.csv\",\"/content/Cars_Images_To_Annotate/Cars_Types_Annotations/SUV_Cars/train\", \"/content/Car_Images_Cropped/SUV/train\")\n",
        "Crop_images(\"/content/Cars_Images_To_Annotate/Cars_Types_Annotations/SUV_Cars/test/_annotations.csv\",\"/content/Cars_Images_To_Annotate/Cars_Types_Annotations/SUV_Cars/test\", \"/content/Car_Images_Cropped/SUV/test\")\n",
        "Crop_images(\"/content/Cars_Images_To_Annotate/Cars_Types_Annotations/SUV_Cars/valid/_annotations.csv\",\"/content/Cars_Images_To_Annotate/Cars_Types_Annotations/SUV_Cars/valid\", \"/content/Car_Images_Cropped/SUV/valid\")"
      ],
      "metadata": {
        "id": "uGhkUQ2hHCvu"
      },
      "execution_count": null,
      "outputs": []
    },
    {
      "cell_type": "code",
      "source": [
        "# Sedan\n",
        "Crop_images(\"/content/Cars_Images_To_Annotate/Cars_Types_Annotations/Sedan_Cars/train/_annotations.csv\",\"/content/Cars_Images_To_Annotate/Cars_Types_Annotations/Sedan_Cars/train\", \"/content/Car_Images_Cropped/Sedan/train\")\n",
        "Crop_images(\"/content/Cars_Images_To_Annotate/Cars_Types_Annotations/Sedan_Cars/test/_annotations.csv\",\"/content/Cars_Images_To_Annotate/Cars_Types_Annotations/Sedan_Cars/test\", \"/content/Car_Images_Cropped/Sedan/test\")\n",
        "Crop_images(\"/content/Cars_Images_To_Annotate/Cars_Types_Annotations/Sedan_Cars/valid/_annotations.csv\",\"/content/Cars_Images_To_Annotate/Cars_Types_Annotations/Sedan_Cars/valid\", \"/content/Car_Images_Cropped/Sedan/valid\")"
      ],
      "metadata": {
        "id": "FJbC0wyRHCtk"
      },
      "execution_count": null,
      "outputs": []
    },
    {
      "cell_type": "code",
      "source": [
        "# VAN\n",
        "Crop_images(\"/content/Cars_Images_To_Annotate/Cars_Types_Annotations/VAN_Cars/train/_annotations.csv\",\"/content/Cars_Images_To_Annotate/Cars_Types_Annotations/VAN_Cars/train\", \"/content/Car_Images_Cropped/VAN/train\")\n",
        "Crop_images(\"/content/Cars_Images_To_Annotate/Cars_Types_Annotations/VAN_Cars/test/_annotations.csv\",\"/content/Cars_Images_To_Annotate/Cars_Types_Annotations/VAN_Cars/test\", \"/content/Car_Images_Cropped/VAN/test\")\n",
        "Crop_images(\"/content/Cars_Images_To_Annotate/Cars_Types_Annotations/VAN_Cars/valid/_annotations.csv\",\"/content/Cars_Images_To_Annotate/Cars_Types_Annotations/VAN_Cars/valid\", \"/content/Car_Images_Cropped/VAN/valid\")"
      ],
      "metadata": {
        "id": "7bBjkc6OHCrK"
      },
      "execution_count": null,
      "outputs": []
    },
    {
      "cell_type": "markdown",
      "source": [
        "### **Zipping the new folder**"
      ],
      "metadata": {
        "id": "_TJx-_LNMFZ-"
      }
    },
    {
      "cell_type": "code",
      "source": [
        "shutil.make_archive(\"Cropped_cars_images\", 'zip', \"/content/Car_Images_Cropped\")"
      ],
      "metadata": {
        "colab": {
          "base_uri": "https://localhost:8080/",
          "height": 36
        },
        "id": "KsPQTFu-HCou",
        "outputId": "9b9242d5-0f52-4f0a-e609-0f561756d894"
      },
      "execution_count": null,
      "outputs": [
        {
          "output_type": "execute_result",
          "data": {
            "text/plain": [
              "'/content/Cropped_cars_images.zip'"
            ],
            "application/vnd.google.colaboratory.intrinsic+json": {
              "type": "string"
            }
          },
          "metadata": {},
          "execution_count": 249
        }
      ]
    },
    {
      "cell_type": "code",
      "source": [
        "file_size = os.path.getsize(r'/content/Cropped_cars_images.zip')\n",
        "print('File size in Bytes: ' + str(file_size))\n",
        "print('File size in Kilobytes: ' + str(file_size/1024))\n",
        "print('File size in Megabytes: ' + str(file_size/1024**2))\n",
        "print('File size in Gigabytes: ' + str(file_size/1024**3))"
      ],
      "metadata": {
        "id": "dQT2DcadMCmL",
        "outputId": "c4b7195f-b47b-4b30-dcca-d777d962d78f",
        "colab": {
          "base_uri": "https://localhost:8080/"
        }
      },
      "execution_count": null,
      "outputs": [
        {
          "output_type": "stream",
          "name": "stdout",
          "text": [
            "File size in Bytes: 1439729281\n",
            "File size in Kilobytes: 1405985.6259765625\n",
            "File size in Megabytes: 1373.0328378677368\n",
            "File size in Gigabytes: 1.3408523807302117\n"
          ]
        }
      ]
    },
    {
      "cell_type": "code",
      "source": [
        "shutil.copyfile(\"/content/Cropped_cars_images.zip\", \"/content/drive/MyDrive/Cars_Body_Type_Dataset/Cropped_cars_images.zip\")"
      ],
      "metadata": {
        "id": "iEfycux_QBKe",
        "outputId": "052eca12-9b27-4318-9db9-e70182273b57",
        "colab": {
          "base_uri": "https://localhost:8080/",
          "height": 36
        }
      },
      "execution_count": null,
      "outputs": [
        {
          "output_type": "execute_result",
          "data": {
            "text/plain": [
              "'/content/drive/MyDrive/Cars_Body_Type_Dataset/Cropped_cars_images.zip'"
            ],
            "application/vnd.google.colaboratory.intrinsic+json": {
              "type": "string"
            }
          },
          "metadata": {},
          "execution_count": 252
        }
      ]
    },
    {
      "cell_type": "code",
      "source": [],
      "metadata": {
        "id": "pigqtuOzQBHG"
      },
      "execution_count": null,
      "outputs": []
    }
  ]
}